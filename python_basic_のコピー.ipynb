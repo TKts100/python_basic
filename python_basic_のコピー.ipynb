{
  "nbformat": 4,
  "nbformat_minor": 0,
  "metadata": {
    "colab": {
      "name": "python_basic のコピー",
      "provenance": [],
      "collapsed_sections": [],
      "authorship_tag": "ABX9TyM3ttQj6m/YxSI7ui4Q4GvI",
      "include_colab_link": true
    },
    "kernelspec": {
      "name": "python3",
      "display_name": "Python 3"
    }
  },
  "cells": [
    {
      "cell_type": "markdown",
      "metadata": {
        "id": "view-in-github",
        "colab_type": "text"
      },
      "source": [
        "<a href=\"https://colab.research.google.com/github/TKts100/python_basic/blob/master/python_basic_%E3%81%AE%E3%82%B3%E3%83%94%E3%83%BC.ipynb\" target=\"_parent\"><img src=\"https://colab.research.google.com/assets/colab-badge.svg\" alt=\"Open In Colab\"/></a>"
      ]
    },
    {
      "cell_type": "code",
      "metadata": {
        "id": "m0Nbd-jF3gtK",
        "colab_type": "code",
        "colab": {}
      },
      "source": [
        "#1-1 数値演算\n",
        "import math as m\n",
        "(m.sqrt(5)+1) / 2\n",
        "\n",
        "#1-3 if文\n",
        "def bmax(a,b):\n",
        "  if a > b:\n",
        "    return a\n",
        "  else:\n",
        "    return b\n",
        "\n",
        "bmax(3,5)"
      ],
      "execution_count": 0,
      "outputs": []
    },
    {
      "cell_type": "code",
      "metadata": {
        "id": "NxNU_Nd7BaEe",
        "colab_type": "code",
        "colab": {}
      },
      "source": [
        "#2-1 \n",
        "word1 = 'hello'\n",
        "word1"
      ],
      "execution_count": 0,
      "outputs": []
    },
    {
      "cell_type": "code",
      "metadata": {
        "id": "ePxufeioLjUg",
        "colab_type": "code",
        "outputId": "e6580a7b-c4bd-4336-92bc-4c4b320535e6",
        "colab": {
          "base_uri": "https://localhost:8080/",
          "height": 68
        }
      },
      "source": [
        "#2-2\n",
        "lns = [[1, 2, 3], [10, 20, 30], ['a', 'b', 'c']]\n",
        "lns2 = [lns, ['x', 1, [11, 12, 13]], ['y', [100, 120, 140]] ]\n",
        "lns2\n"
      ],
      "execution_count": 0,
      "outputs": [
        {
          "output_type": "execute_result",
          "data": {
            "text/plain": [
              "[[[1, 2, 3], [10, 20, 30], ['a', 'b', 'c']],\n",
              " ['x', 1, [11, 12, 13]],\n",
              " ['y', [100, 120, 140]]]"
            ]
          },
          "metadata": {
            "tags": []
          },
          "execution_count": 2
        }
      ]
    },
    {
      "cell_type": "code",
      "metadata": {
        "id": "ZlFtmc5_LOTy",
        "colab_type": "code",
        "outputId": "ec7f3ef6-b13f-48e7-d58a-62c4bacb65b8",
        "colab": {
          "base_uri": "https://localhost:8080/",
          "height": 34
        }
      },
      "source": [
        "#3-1\n",
        "\n",
        "\n",
        "\n",
        "#prac\n",
        "def reverse_lookup(list1):\n",
        "  dic1 = {}\n",
        "  for str_i in list1:\n",
        "    dic1[str_i] = list1.index(str_i)\n",
        "  return dic1\n",
        "\n",
        "reverse_lookup(['aaa','bbb'])"
      ],
      "execution_count": 0,
      "outputs": [
        {
          "output_type": "execute_result",
          "data": {
            "text/plain": [
              "{'aaa': 0, 'bbb': 1}"
            ]
          },
          "metadata": {
            "tags": []
          },
          "execution_count": 4
        }
      ]
    },
    {
      "cell_type": "code",
      "metadata": {
        "id": "aOeYz075vIZw",
        "colab_type": "code",
        "colab": {}
      },
      "source": [
        "#3-2"
      ],
      "execution_count": 0,
      "outputs": []
    }
  ]
}